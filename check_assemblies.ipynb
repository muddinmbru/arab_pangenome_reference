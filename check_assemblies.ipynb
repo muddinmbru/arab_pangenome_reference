{
 "cells": [
  {
   "cell_type": "code",
   "execution_count": 36,
   "metadata": {},
   "outputs": [],
   "source": [
    "from Bio import SeqIO\n",
    "import os\n",
    "\n",
    "from multiprocessing import Pool\n",
    "\n",
    "assembly_dir = 'mito_filtered_assemblies'\n",
    "\n",
    "assemblies = [f'{assembly_dir}/{file}' for file in os.listdir(assembly_dir) if file.split('.')[-1] == 'fa']\n",
    "\n",
    "def check_assembly(path):\n",
    "    \n",
    "    sequences = set()\n",
    "    for record in SeqIO.parse(path, 'fasta'):\n",
    "        sequences.update(set(record.seq))\n",
    "    print(sequences)\n",
    "  \n",
    "    \n",
    "    \n",
    "    return path.split('/')[-1].split('.')[0], len(sequences) == 4, sequences\n",
    "\n",
    "# with Pool(len(assemblies)) as p:\n",
    "#     results = p.map(check_assembly, assemblies)\n",
    "    \n",
    "# print(results)\n",
    "\n",
    "# with open('check_mito.test','w') as f:\n",
    "#     for result in results:\n",
    "#         f.write(result)"
   ]
  },
  {
   "cell_type": "code",
   "execution_count": 38,
   "metadata": {},
   "outputs": [],
   "source": [
    "assemblies = ['mito_filtered_assemblies/gp041.bp.hap2.p_ctg.fa', 'mito_filtered_assemblies/gp041.bp.hap1.p_ctg.fa']"
   ]
  },
  {
   "cell_type": "code",
   "execution_count": 41,
   "metadata": {},
   "outputs": [
    {
     "name": "stdout",
     "output_type": "stream",
     "text": [
      "{'A', 'G', 'T', 'C'}\n",
      "{'A', 'G', 'T', 'C'}\n"
     ]
    }
   ],
   "source": [
    "with Pool() as p:\n",
    "   r = p.map(check_assembly, assemblies)\n",
    "\n",
    "with open('check_all_gp041.test','w') as f:\n",
    "    for result in r:\n",
    "        f.write('\\t'.join([result[0], str(result[1]), ','.join(result[2])])+'\\n')"
   ]
  },
  {
   "cell_type": "code",
   "execution_count": 42,
   "metadata": {},
   "outputs": [
    {
     "data": {
      "text/plain": [
       "2"
      ]
     },
     "execution_count": 42,
     "metadata": {},
     "output_type": "execute_result"
    }
   ],
   "source": [
    "len(assemblies)"
   ]
  },
  {
   "cell_type": "code",
   "execution_count": null,
   "metadata": {},
   "outputs": [],
   "source": []
  }
 ],
 "metadata": {
  "kernelspec": {
   "display_name": "base",
   "language": "python",
   "name": "python3"
  },
  "language_info": {
   "codemirror_mode": {
    "name": "ipython",
    "version": 3
   },
   "file_extension": ".py",
   "mimetype": "text/x-python",
   "name": "python",
   "nbconvert_exporter": "python",
   "pygments_lexer": "ipython3",
   "version": "3.10.8"
  },
  "orig_nbformat": 4
 },
 "nbformat": 4,
 "nbformat_minor": 2
}
