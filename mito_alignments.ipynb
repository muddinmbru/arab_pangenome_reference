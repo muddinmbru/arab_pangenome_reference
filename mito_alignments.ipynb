{
 "cells": [
  {
   "cell_type": "code",
   "execution_count": 1,
   "metadata": {},
   "outputs": [],
   "source": [
    "import os\n",
    "import re\n",
    "from functools import reduce\n",
    "from Bio import SeqIO\n",
    "from concurrent.futures import ThreadPoolExecutor\n",
    "from multiprocessing import Pool"
   ]
  },
  {
   "cell_type": "code",
   "execution_count": 36,
   "metadata": {},
   "outputs": [],
   "source": [
    "alignments = [file for file in os.listdir('all_mito_mappings_reversed') if file.split('.')[-1] == 'txt']"
   ]
  },
  {
   "cell_type": "code",
   "execution_count": 7,
   "metadata": {},
   "outputs": [],
   "source": [
    "def get_alignment_total(cigar):\n",
    "    matches = re.findall(r'(\\d+)M', cigar)\n",
    "    total_matches = reduce(lambda x,y: int(x)+int(y), matches)\n",
    "    return total_matches"
   ]
  },
  {
   "cell_type": "code",
   "execution_count": 8,
   "metadata": {},
   "outputs": [],
   "source": [
    "def get_contig_length(fasta, contig):\n",
    "    with open(fasta, \"r\") as in_file:\n",
    "        for record in SeqIO.parse(in_file, \"fasta\"):\n",
    "            if record.id == contig:\n",
    "                return len(record.seq)\n",
    "        return -1\n",
    "    "
   ]
  },
  {
   "cell_type": "code",
   "execution_count": 17,
   "metadata": {},
   "outputs": [],
   "source": [
    "alignments = ['gp041.1.chmM.reversed_contigs.txt', 'gp041.2.chmM.reversed_contigs.txt']"
   ]
  },
  {
   "cell_type": "code",
   "execution_count": 18,
   "metadata": {},
   "outputs": [],
   "source": [
    "data = []\n",
    "fasta_contigs = []\n",
    "for alignment in alignments:\n",
    "    # print(alignment)\n",
    "    info = open(f'all_mito_mappings_reversed/{alignment}', 'r').read().splitlines()\n",
    "    info_items = info[0].split()\n",
    "    contig = info_items[0]\n",
    "    cigar = info_items[-1]\n",
    "    sample = alignment.split('.')[0]\n",
    "    hap = alignment.split('.')[1][-1]\n",
    "    \n",
    "    fasta = f\"../all_assemblies/{sample}.bp.hap{hap}.p_ctg.fa\"\n",
    "    # print(fasta)\n",
    "    \n",
    "    fasta_contigs.append((fasta, contig))\n",
    "    \n",
    "    \n",
    "    align_total = get_alignment_total(cigar)\n",
    "    # # contig_length = get_contig_length(fasta, contig)\n",
    "    # # print(align_total)\n",
    "    \n",
    "    # data.append([sample, hap, contig, align_total, contig_length, align_total/contig_length])\n",
    "    \n",
    "    \n",
    "    "
   ]
  },
  {
   "cell_type": "code",
   "execution_count": 19,
   "metadata": {},
   "outputs": [
    {
     "data": {
      "text/plain": [
       "[('../all_assemblies/gp041.bp.hap1.p_ctg.fa', 'h1tg000400c'),\n",
       " ('../all_assemblies/gp041.bp.hap2.p_ctg.fa', 'h2tg000373c')]"
      ]
     },
     "execution_count": 19,
     "metadata": {},
     "output_type": "execute_result"
    }
   ],
   "source": [
    "fasta_contigs"
   ]
  },
  {
   "cell_type": "code",
   "execution_count": 20,
   "metadata": {},
   "outputs": [],
   "source": [
    "with Pool(len(fasta_contigs)) as p:\n",
    "    results = p.starmap(get_contig_length, fasta_contigs)"
   ]
  },
  {
   "cell_type": "code",
   "execution_count": 23,
   "metadata": {},
   "outputs": [
    {
     "data": {
      "text/plain": [
       "[33140, 33140]"
      ]
     },
     "execution_count": 23,
     "metadata": {},
     "output_type": "execute_result"
    }
   ],
   "source": [
    "results"
   ]
  },
  {
   "cell_type": "code",
   "execution_count": 83,
   "metadata": {},
   "outputs": [],
   "source": [
    "data=[]\n",
    "for sample_info, length, alignment in zip(fasta_contigs, results, alignments):\n",
    "    contig = sample_info[-1]\n",
    "    \n",
    "    sample = alignment.split('.')[0]\n",
    "    hap = alignment.split('.')[1]\n",
    "    \n",
    "    info = open(f'all_mito_mappings_reversed/{alignment}', 'r').read().splitlines()\n",
    "    info_items = info[0].split()\n",
    "    cigar = info_items[-1]\n",
    "    \n",
    "    align_total = get_alignment_total(cigar)\n",
    "    \n",
    "    data.append([sample, hap, contig, align_total, length, int(align_total)/length])\n",
    "    \n",
    "    \n",
    "    \n",
    "    \n",
    "    "
   ]
  },
  {
   "cell_type": "code",
   "execution_count": 85,
   "metadata": {},
   "outputs": [],
   "source": [
    "import pandas as pd"
   ]
  },
  {
   "cell_type": "code",
   "execution_count": 90,
   "metadata": {},
   "outputs": [],
   "source": [
    "pd.DataFrame(data, columns=['sample', 'hap', 'contig', 'align_total', 'length', 'percentage']).to_csv('align_information.csv')"
   ]
  },
  {
   "cell_type": "code",
   "execution_count": 91,
   "metadata": {},
   "outputs": [
    {
     "data": {
      "text/plain": [
       "[('../all_assemblies/gp011.bp.hap1.p_ctg.fa', 'h1tg000063l'),\n",
       " ('../all_assemblies/gp008.bp.hap1.p_ctg.fa', 'h1tg000060l'),\n",
       " ('../all_assemblies/gp038.bp.hap1.p_ctg.fa', 'h1tg000246l'),\n",
       " ('../all_assemblies/gp027.bp.hap1.p_ctg.fa', 'h1tg000067c'),\n",
       " ('../all_assemblies/gp024.bp.hap2.p_ctg.fa', 'h2tg000047l'),\n",
       " ('../all_assemblies/gp015.bp.hap2.p_ctg.fa', 'h2tg000065c'),\n",
       " ('../all_assemblies/gp020.bp.hap1.p_ctg.fa', 'h1tg000087l'),\n",
       " ('../all_assemblies/gp031.bp.hap2.p_ctg.fa', 'h2tg000088l'),\n",
       " ('../all_assemblies/gp033.bp.hap2.p_ctg.fa', 'h2tg000081c'),\n",
       " ('../all_assemblies/gp014.bp.hap1.p_ctg.fa', 'h1tg000051c'),\n",
       " ('../all_assemblies/gp041.bp.hap2.p_ctg.fa', 'h2tg000373c'),\n",
       " ('../all_assemblies/gp040.bp.hap1.p_ctg.fa', 'h1tg000123l'),\n",
       " ('../all_assemblies/gp016.bp.hap2.p_ctg.fa', 'h2tg000041c'),\n",
       " ('../all_assemblies/gp041.bp.hap1.p_ctg.fa', 'h1tg000400c'),\n",
       " ('../all_assemblies/gp006.bp.hap1.p_ctg.fa', 'h1tg000088l'),\n",
       " ('../all_assemblies/gp021.bp.hap1.p_ctg.fa', 'h1tg000082c'),\n",
       " ('../all_assemblies/gp012.bp.hap1.p_ctg.fa', 'h1tg000060l'),\n",
       " ('../all_assemblies/gp002.bp.hap2.p_ctg.fa', 'h2tg000062l'),\n",
       " ('../all_assemblies/gp031.bp.hap1.p_ctg.fa', 'h1tg000075l'),\n",
       " ('../all_assemblies/gp005.bp.hap1.p_ctg.fa', 'h1tg000042c'),\n",
       " ('../all_assemblies/gp008.bp.hap2.p_ctg.fa', 'h2tg000069l'),\n",
       " ('../all_assemblies/gp034.bp.hap2.p_ctg.fa', 'h2tg000113l'),\n",
       " ('../all_assemblies/gp012.bp.hap2.p_ctg.fa', 'h2tg000064l'),\n",
       " ('../all_assemblies/gp038.bp.hap2.p_ctg.fa', 'h2tg000249l'),\n",
       " ('../all_assemblies/gp023.bp.hap2.p_ctg.fa', 'h2tg000057l'),\n",
       " ('../all_assemblies/father.bp.hap1.p_ctg.fa', 'h1tg000180l'),\n",
       " ('../all_assemblies/gp020.bp.hap2.p_ctg.fa', 'h2tg000089l'),\n",
       " ('../all_assemblies/gp005.bp.hap2.p_ctg.fa', 'h2tg000079c'),\n",
       " ('../all_assemblies/gp010.bp.hap2.p_ctg.fa', 'h2tg000094l'),\n",
       " ('../all_assemblies/gp025.bp.hap2.p_ctg.fa', 'h2tg000092l'),\n",
       " ('../all_assemblies/gp019.bp.hap2.p_ctg.fa', 'h2tg000071c'),\n",
       " ('../all_assemblies/gp023.bp.hap1.p_ctg.fa', 'h1tg000053l'),\n",
       " ('../all_assemblies/son.bp.hap2.p_ctg.fa', 'h2tg000079c'),\n",
       " ('../all_assemblies/mother.bp.hap2.p_ctg.fa', 'h2tg000085l'),\n",
       " ('../all_assemblies/gp007.bp.hap2.p_ctg.fa', 'h2tg000056l'),\n",
       " ('../all_assemblies/gp040.bp.hap2.p_ctg.fa', 'h2tg000131l'),\n",
       " ('../all_assemblies/mother.bp.hap1.p_ctg.fa', 'h1tg000107l'),\n",
       " ('../all_assemblies/gp024.bp.hap1.p_ctg.fa', 'h1tg000052l'),\n",
       " ('../all_assemblies/gp007.bp.hap1.p_ctg.fa', 'h1tg000050l'),\n",
       " ('../all_assemblies/gp013.bp.hap2.p_ctg.fa', 'h2tg000079c'),\n",
       " ('../all_assemblies/gp027.bp.hap2.p_ctg.fa', 'h2tg000012l'),\n",
       " ('../all_assemblies/gp019.bp.hap1.p_ctg.fa', 'h1tg000067c'),\n",
       " ('../all_assemblies/gp017.bp.hap2.p_ctg.fa', 'h2tg000141l'),\n",
       " ('../all_assemblies/gp030.bp.hap2.p_ctg.fa', 'h2tg000071c'),\n",
       " ('../all_assemblies/gp004.bp.hap1.p_ctg.fa', 'h1tg000057l'),\n",
       " ('../all_assemblies/gp030.bp.hap1.p_ctg.fa', 'h1tg000059c'),\n",
       " ('../all_assemblies/gp006.bp.hap2.p_ctg.fa', 'h2tg000086l'),\n",
       " ('../all_assemblies/gp037.bp.hap2.p_ctg.fa', 'h2tg000100l'),\n",
       " ('../all_assemblies/gp010.bp.hap1.p_ctg.fa', 'h1tg000115l'),\n",
       " ('../all_assemblies/gp039.bp.hap2.p_ctg.fa', 'h2tg000123l'),\n",
       " ('../all_assemblies/gp026.bp.hap1.p_ctg.fa', 'h1tg000066c'),\n",
       " ('../all_assemblies/gp035.bp.hap1.p_ctg.fa', 'h1tg000059l'),\n",
       " ('../all_assemblies/gp017.bp.hap1.p_ctg.fa', 'h1tg000125l'),\n",
       " ('../all_assemblies/gp025.bp.hap1.p_ctg.fa', 'h1tg000087l'),\n",
       " ('../all_assemblies/gp035.bp.hap2.p_ctg.fa', 'h2tg000067l'),\n",
       " ('../all_assemblies/gp022.bp.hap1.p_ctg.fa', 'h1tg000074l'),\n",
       " ('../all_assemblies/gp029.bp.hap2.p_ctg.fa', 'h2tg000089l'),\n",
       " ('../all_assemblies/gp002.bp.hap1.p_ctg.fa', 'h1tg000068l'),\n",
       " ('../all_assemblies/gp001.bp.hap1.p_ctg.fa', 'h1tg000072c'),\n",
       " ('../all_assemblies/gp018.bp.hap2.p_ctg.fa', 'h2tg000058l'),\n",
       " ('../all_assemblies/father.bp.hap2.p_ctg.fa', 'h2tg000123c'),\n",
       " ('../all_assemblies/gp009.bp.hap1.p_ctg.fa', 'h1tg000054l'),\n",
       " ('../all_assemblies/gp032.bp.hap1.p_ctg.fa', 'h1tg000059l'),\n",
       " ('../all_assemblies/gp015.bp.hap1.p_ctg.fa', 'h1tg000072c'),\n",
       " ('../all_assemblies/gp026.bp.hap2.p_ctg.fa', 'h2tg000074c'),\n",
       " ('../all_assemblies/gp036.bp.hap2.p_ctg.fa', 'h2tg000229l'),\n",
       " ('../all_assemblies/gp011.bp.hap2.p_ctg.fa', 'h2tg000058l'),\n",
       " ('../all_assemblies/gp009.bp.hap2.p_ctg.fa', 'h2tg000064l'),\n",
       " ('../all_assemblies/son.bp.hap1.p_ctg.fa', 'h1tg000111c'),\n",
       " ('../all_assemblies/gp032.bp.hap2.p_ctg.fa', 'h2tg000056l'),\n",
       " ('../all_assemblies/gp033.bp.hap1.p_ctg.fa', 'h1tg000074c'),\n",
       " ('../all_assemblies/gp039.bp.hap1.p_ctg.fa', 'h1tg000143l'),\n",
       " ('../all_assemblies/gp022.bp.hap2.p_ctg.fa', 'h2tg000091l'),\n",
       " ('../all_assemblies/gp021.bp.hap2.p_ctg.fa', 'h2tg000087c'),\n",
       " ('../all_assemblies/gp029.bp.hap1.p_ctg.fa', 'h1tg000090l'),\n",
       " ('../all_assemblies/gp018.bp.hap1.p_ctg.fa', 'h1tg000055l'),\n",
       " ('../all_assemblies/gp034.bp.hap1.p_ctg.fa', 'h1tg000094l'),\n",
       " ('../all_assemblies/gp036.bp.hap1.p_ctg.fa', 'h1tg000236l'),\n",
       " ('../all_assemblies/gp016.bp.hap1.p_ctg.fa', 'h1tg000036c'),\n",
       " ('../all_assemblies/gp001.bp.hap2.p_ctg.fa', 'h2tg000064c'),\n",
       " ('../all_assemblies/gp004.bp.hap2.p_ctg.fa', 'h2tg000069l'),\n",
       " ('../all_assemblies/gp003.bp.hap1.p_ctg.fa', 'h1tg000080l'),\n",
       " ('../all_assemblies/gp013.bp.hap1.p_ctg.fa', 'h1tg000074c'),\n",
       " ('../all_assemblies/gp003.bp.hap2.p_ctg.fa', 'h2tg000067l'),\n",
       " ('../all_assemblies/gp037.bp.hap1.p_ctg.fa', 'h1tg000069l'),\n",
       " ('../all_assemblies/gp014.bp.hap2.p_ctg.fa', 'h2tg000046c')]"
      ]
     },
     "execution_count": 91,
     "metadata": {},
     "output_type": "execute_result"
    }
   ],
   "source": [
    "fasta_contigs"
   ]
  },
  {
   "cell_type": "code",
   "execution_count": 24,
   "metadata": {},
   "outputs": [],
   "source": [
    "def remove_contig(fasta, contig):\n",
    "    sample = fasta.split('/')[-1].split('.')[0]\n",
    "    hap = fasta.split('/')[-1].split('.')[2][-1]\n",
    "    \n",
    "    if (sample == 'gp027' and hap == '2'):\n",
    "        return\n",
    "\n",
    "    with open(fasta, \"r\") as in_file, open (f'mito_filtered_assemblies/{fasta.split(\"/\")[-1]}', 'w') as outfile:\n",
    "        for record in SeqIO.parse(in_file, \"fasta\"):\n",
    "            if record.id != contig:\n",
    "                outfile.write(f\">{record.description}\\n\")\n",
    "                outfile.write(f\"{str(record.seq)}\\n\")\n",
    "    \n",
    "        \n",
    "    \n",
    "    "
   ]
  },
  {
   "cell_type": "code",
   "execution_count": 25,
   "metadata": {},
   "outputs": [
    {
     "data": {
      "text/plain": [
       "[('../all_assemblies/gp041.bp.hap1.p_ctg.fa', 'h1tg000400c'),\n",
       " ('../all_assemblies/gp041.bp.hap2.p_ctg.fa', 'h2tg000373c')]"
      ]
     },
     "execution_count": 25,
     "metadata": {},
     "output_type": "execute_result"
    }
   ],
   "source": [
    "fasta_contigs"
   ]
  },
  {
   "cell_type": "code",
   "execution_count": 26,
   "metadata": {},
   "outputs": [],
   "source": [
    "with Pool(len(fasta_contigs)) as p:\n",
    "    results = p.starmap(remove_contig, fasta_contigs)"
   ]
  },
  {
   "cell_type": "code",
   "execution_count": 113,
   "metadata": {},
   "outputs": [],
   "source": [
    "with open('../all_assemblies/gp027.bp.hap2.p_ctg.fa', \"r\") as in_file, open (f'mito_filtered_assemblies/gp027.bp.hap2.p_ctg.fa', 'w') as outfile:\n",
    "        for record in SeqIO.parse(in_file, \"fasta\"):\n",
    "            if record.id == 'h2tg000012l':\n",
    "                sequence = record.seq\n",
    "                sequence1 = sequence[:68872793]\n",
    "                sequence2 = sequence[68872793+16569:]\n",
    "           \n",
    "                outfile.write(f\">{record.description}p1\\n\")\n",
    "                outfile.write(f\"{sequence1}\\n\")\n",
    "                outfile.write(f\">{record.description}p2\\n\")\n",
    "                outfile.write(f\"{sequence2}\\n\")\n",
    "            else:\n",
    "                outfile.write(f\">{record.description}\\n\")\n",
    "                outfile.write(f\"{str(record.seq)}\\n\")"
   ]
  }
 ],
 "metadata": {
  "kernelspec": {
   "display_name": "base",
   "language": "python",
   "name": "python3"
  },
  "language_info": {
   "codemirror_mode": {
    "name": "ipython",
    "version": 3
   },
   "file_extension": ".py",
   "mimetype": "text/x-python",
   "name": "python",
   "nbconvert_exporter": "python",
   "pygments_lexer": "ipython3",
   "version": "3.10.8"
  },
  "orig_nbformat": 4
 },
 "nbformat": 4,
 "nbformat_minor": 2
}
