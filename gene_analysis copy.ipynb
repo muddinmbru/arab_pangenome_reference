{
 "cells": [
  {
   "cell_type": "code",
   "execution_count": 1,
   "metadata": {},
   "outputs": [],
   "source": [
    "import pandas as pd\n",
    "import matplotlib.pyplot as plt\n",
    "import gzip\n",
    "from multiprocessing import Pool\n",
    "import os\n",
    "import pandas as pd \n",
    "import re\n",
    "\n"
   ]
  },
  {
   "cell_type": "code",
   "execution_count": 2,
   "metadata": {},
   "outputs": [],
   "source": [
    "import os"
   ]
  },
  {
   "cell_type": "code",
   "execution_count": 3,
   "metadata": {},
   "outputs": [],
   "source": [
    "vcf_file = '/mnt/h700/omixlab/workflows/bipin_works/VCF_ANALYSIS_APR_HPRC_CPR/arp-v2.1-mc-chm13_single_allelic.vcf'\n"
   ]
  },
  {
   "cell_type": "code",
   "execution_count": 4,
   "metadata": {},
   "outputs": [],
   "source": [
    "import pickle"
   ]
  },
  {
   "cell_type": "code",
   "execution_count": 5,
   "metadata": {},
   "outputs": [],
   "source": [
    "def extract_info(info_str, key):\n",
    "    for field in info_str.split(';'):\n",
    "        if field.startswith(key + '='):\n",
    "            return field[len(key)+1:]\n",
    "    return None"
   ]
  },
  {
   "cell_type": "code",
   "execution_count": 7,
   "metadata": {},
   "outputs": [],
   "source": [
    "def allele_lengths(ref, alt):\n",
    "    alts = alt.split(',')\n",
    "    return [len(a) for a in alts]"
   ]
  },
  {
   "cell_type": "code",
   "execution_count": 12,
   "metadata": {},
   "outputs": [],
   "source": [
    "def split_string(s):\n",
    "    result = re.split('(>|<)', s)\n",
    "    result = ''.join([item for item in result if item][:2])\n",
    "    return result"
   ]
  },
  {
   "cell_type": "code",
   "execution_count": 11,
   "metadata": {},
   "outputs": [],
   "source": [
    "def split_info(s):\n",
    "    string = s\n",
    "    result = string.split(';')\n",
    "    at = result[3]\n",
    "    at_new= '='.join([at.split('=')[0]] + [''.join([item for item in re.split('(>|<)', at.split('=')[-1]) if item][:2])])\n",
    "    return_string = ';'.join(result[:3] + [at_new] + result[4:])\n",
    "    return return_string"
   ]
  },
  {
   "cell_type": "code",
   "execution_count": 18,
   "metadata": {},
   "outputs": [],
   "source": [
    "all_sites = []\n",
    "with open(vcf_file, 'r') as vcf:\n",
    "    for line in vcf:\n",
    "        if not line.startswith('#'):\n",
    "            columns = line.strip().split('\\t')\n",
    "            id = columns[2]\n",
    "            info = columns[7]\n",
    "            \n",
    "            columns[2] = split_string(columns[2])\n",
    "            columns[7] = split_info(columns[7])\n",
    "            \n",
    "            \n",
    "            all_sites.append('\\t'.join(columns))\n",
    "            \n",
    "        "
   ]
  },
  {
   "cell_type": "code",
   "execution_count": 20,
   "metadata": {},
   "outputs": [
    {
     "data": {
      "text/plain": [
       "['##fileformat=VCFv4.2',\n",
       " '##FILTER=<ID=PASS,Description=\"All filters passed\">',\n",
       " '##FORMAT=<ID=GT,Number=1,Type=String,Description=\"Genotype\">',\n",
       " '##INFO=<ID=CONFLICT,Number=.,Type=String,Description=\"Sample names for which there are multiple paths in the graph with conflicting alleles\">',\n",
       " '##INFO=<ID=AC,Number=A,Type=Integer,Description=\"Total number of alternate alleles in called genotypes\">',\n",
       " '##INFO=<ID=AF,Number=A,Type=Float,Description=\"Estimated allele frequency in the range (0,1]\">',\n",
       " '##INFO=<ID=NS,Number=1,Type=Integer,Description=\"Number of samples with data\">',\n",
       " '##INFO=<ID=AN,Number=1,Type=Integer,Description=\"Total number of alleles in called genotypes\">',\n",
       " '##INFO=<ID=LV,Number=1,Type=Integer,Description=\"Level in the snarl tree (0=top level)\">',\n",
       " '##INFO=<ID=PS,Number=1,Type=String,Description=\"ID of variant corresponding to parent snarl\">',\n",
       " '##INFO=<ID=AT,Number=R,Type=String,Description=\"Allele Traversal as path in graph\">',\n",
       " '##contig=<ID=chr1,length=248387328>',\n",
       " '##contig=<ID=chr10,length=134758134>',\n",
       " '##contig=<ID=chr11,length=135127769>',\n",
       " '##contig=<ID=chr12,length=133324548>',\n",
       " '##contig=<ID=chr13,length=113566686>',\n",
       " '##contig=<ID=chr14,length=101161492>',\n",
       " '##contig=<ID=chr15,length=99753195>',\n",
       " '##contig=<ID=chr16,length=96330374>',\n",
       " '##contig=<ID=chr17,length=84276897>',\n",
       " '##contig=<ID=chr18,length=80542538>',\n",
       " '##contig=<ID=chr19,length=61707364>',\n",
       " '##contig=<ID=chr2,length=242696752>',\n",
       " '##contig=<ID=chr20,length=66210255>',\n",
       " '##contig=<ID=chr21,length=45090682>',\n",
       " '##contig=<ID=chr22,length=51324926>',\n",
       " '##contig=<ID=chr3,length=201105948>',\n",
       " '##contig=<ID=chr4,length=193574945>',\n",
       " '##contig=<ID=chr5,length=182045439>',\n",
       " '##contig=<ID=chr6,length=172126628>',\n",
       " '##contig=<ID=chr7,length=160567428>',\n",
       " '##contig=<ID=chr8,length=146259331>',\n",
       " '##contig=<ID=chr9,length=150617247>',\n",
       " '##contig=<ID=chrM,length=16569>',\n",
       " '##contig=<ID=chrX,length=154259566>',\n",
       " '##contig=<ID=chrY,length=62460029>',\n",
       " '##bcftools_normVersion=1.17+htslib-1.17',\n",
       " '##bcftools_normCommand=norm -m- -o arp-v2.1-mc-chm13_single_allelic.vcf arp-v2.1-mc-chm13.vcf; Date=Fri Sep 15 11:56:51 2023',\n",
       " '#CHROM\\tPOS\\tID\\tREF\\tALT\\tQUAL\\tFILTER\\tINFO\\tFORMAT\\tfather\\tgp001\\tgp002\\tgp003\\tgp004\\tgp005\\tgp006\\tgp007\\tgp008\\tgp009\\tgp010\\tgp011\\tgp012\\tgp013\\tgp014\\tgp015\\tgp016\\tgp017\\tgp018\\tgp019\\tgp020\\tgp021\\tgp022\\tgp023\\tgp024\\tgp025\\tgp026\\tgp027\\tgp029\\tgp030\\tgp031\\tgp032\\tgp033\\tgp034\\tgp035\\tgp036\\tgp037\\tgp038\\tgp039\\tgp040\\tgp041\\thg38_no_alt\\tmother\\tson']"
      ]
     },
     "execution_count": 20,
     "metadata": {},
     "output_type": "execute_result"
    }
   ],
   "source": []
  },
  {
   "cell_type": "code",
   "execution_count": 19,
   "metadata": {},
   "outputs": [],
   "source": [
    "comments = []\n",
    "with open(vcf_file, 'r') as vcf:\n",
    "    for line in vcf:\n",
    "        if line.startswith('#'):\n",
    "            comments.append(line.strip())\n",
    "        else:\n",
    "            break\n",
    "            "
   ]
  },
  {
   "cell_type": "code",
   "execution_count": 21,
   "metadata": {},
   "outputs": [],
   "source": [
    "with open('simplified_single_allelic.vcf', 'w+') as f:\n",
    "    for comment in comments:\n",
    "        f.write(f'{comment}\\n')\n",
    "    for site in all_sites:\n",
    "        f.write(f'{site}\\n')"
   ]
  },
  {
   "cell_type": "code",
   "execution_count": 9,
   "metadata": {},
   "outputs": [],
   "source": [
    "all_sites_df = pd.DataFrame(all_sites)"
   ]
  },
  {
   "cell_type": "code",
   "execution_count": 32,
   "metadata": {},
   "outputs": [
    {
     "ename": "IndexError",
     "evalue": "list index out of range",
     "output_type": "error",
     "traceback": [
      "\u001b[0;31m---------------------------------------------------------------------------\u001b[0m",
      "\u001b[0;31mIndexError\u001b[0m                                Traceback (most recent call last)",
      "\u001b[1;32m/mnt/h700/omixlab/workflows/genome-project/assembly/pangenome/arp.hifiasm.v2.1_all/analyse/gene_analysis copy.ipynb Cell 11\u001b[0m line \u001b[0;36m1\n\u001b[0;32m----> <a href='vscode-notebook-cell://ssh-remote%2B172.30.13.24/mnt/h700/omixlab/workflows/genome-project/assembly/pangenome/arp.hifiasm.v2.1_all/analyse/gene_analysis%20copy.ipynb#Y106sdnNjb2RlLXJlbW90ZQ%3D%3D?line=0'>1</a>\u001b[0m split_info(\u001b[39m'\u001b[39;49m\u001b[39m>132>123\u001b[39;49m\u001b[39m'\u001b[39;49m)\n",
      "\u001b[1;32m/mnt/h700/omixlab/workflows/genome-project/assembly/pangenome/arp.hifiasm.v2.1_all/analyse/gene_analysis copy.ipynb Cell 11\u001b[0m line \u001b[0;36m4\n\u001b[1;32m      <a href='vscode-notebook-cell://ssh-remote%2B172.30.13.24/mnt/h700/omixlab/workflows/genome-project/assembly/pangenome/arp.hifiasm.v2.1_all/analyse/gene_analysis%20copy.ipynb#Y106sdnNjb2RlLXJlbW90ZQ%3D%3D?line=1'>2</a>\u001b[0m string \u001b[39m=\u001b[39m s\n\u001b[1;32m      <a href='vscode-notebook-cell://ssh-remote%2B172.30.13.24/mnt/h700/omixlab/workflows/genome-project/assembly/pangenome/arp.hifiasm.v2.1_all/analyse/gene_analysis%20copy.ipynb#Y106sdnNjb2RlLXJlbW90ZQ%3D%3D?line=2'>3</a>\u001b[0m result \u001b[39m=\u001b[39m string\u001b[39m.\u001b[39msplit(\u001b[39m'\u001b[39m\u001b[39m;\u001b[39m\u001b[39m'\u001b[39m)\n\u001b[0;32m----> <a href='vscode-notebook-cell://ssh-remote%2B172.30.13.24/mnt/h700/omixlab/workflows/genome-project/assembly/pangenome/arp.hifiasm.v2.1_all/analyse/gene_analysis%20copy.ipynb#Y106sdnNjb2RlLXJlbW90ZQ%3D%3D?line=3'>4</a>\u001b[0m at \u001b[39m=\u001b[39m result[\u001b[39m3\u001b[39;49m]\n\u001b[1;32m      <a href='vscode-notebook-cell://ssh-remote%2B172.30.13.24/mnt/h700/omixlab/workflows/genome-project/assembly/pangenome/arp.hifiasm.v2.1_all/analyse/gene_analysis%20copy.ipynb#Y106sdnNjb2RlLXJlbW90ZQ%3D%3D?line=4'>5</a>\u001b[0m at_new\u001b[39m=\u001b[39m \u001b[39m'\u001b[39m\u001b[39m=\u001b[39m\u001b[39m'\u001b[39m\u001b[39m.\u001b[39mjoin([at\u001b[39m.\u001b[39msplit(\u001b[39m'\u001b[39m\u001b[39m=\u001b[39m\u001b[39m'\u001b[39m)[\u001b[39m0\u001b[39m]] \u001b[39m+\u001b[39m [\u001b[39m'\u001b[39m\u001b[39m'\u001b[39m\u001b[39m.\u001b[39mjoin([item \u001b[39mfor\u001b[39;00m item \u001b[39min\u001b[39;00m re\u001b[39m.\u001b[39msplit(\u001b[39m'\u001b[39m\u001b[39m(>|<)\u001b[39m\u001b[39m'\u001b[39m, at\u001b[39m.\u001b[39msplit(\u001b[39m'\u001b[39m\u001b[39m=\u001b[39m\u001b[39m'\u001b[39m)[\u001b[39m-\u001b[39m\u001b[39m1\u001b[39m]) \u001b[39mif\u001b[39;00m item][:\u001b[39m2\u001b[39m])])\n\u001b[1;32m      <a href='vscode-notebook-cell://ssh-remote%2B172.30.13.24/mnt/h700/omixlab/workflows/genome-project/assembly/pangenome/arp.hifiasm.v2.1_all/analyse/gene_analysis%20copy.ipynb#Y106sdnNjb2RlLXJlbW90ZQ%3D%3D?line=5'>6</a>\u001b[0m \u001b[39mreturn\u001b[39;00m at_new\n",
      "\u001b[0;31mIndexError\u001b[0m: list index out of range"
     ]
    }
   ],
   "source": [
    "split_info('>132>123')"
   ]
  },
  {
   "cell_type": "code",
   "execution_count": 33,
   "metadata": {},
   "outputs": [],
   "source": [
    "all_sites_df[7] = all_sites_df[7].apply(split_info)"
   ]
  },
  {
   "cell_type": "code",
   "execution_count": 35,
   "metadata": {},
   "outputs": [
    {
     "data": {
      "text/plain": [
       "'AT=>2106'"
      ]
     },
     "execution_count": 35,
     "metadata": {},
     "output_type": "execute_result"
    }
   ],
   "source": [
    "all_sites_df.iloc[]"
   ]
  },
  {
   "cell_type": "code",
   "execution_count": 13,
   "metadata": {},
   "outputs": [],
   "source": [
    "interesting_alleles = []\n",
    "with open(vcf_file, 'r') as vcf:\n",
    "    for line in vcf:\n",
    "        if not line.startswith('#'):  # Exclude header lines\n",
    "            columns = line.strip().split('\\t')\n",
    "            ref = columns[3]\n",
    "            alt = columns[4]\n",
    "            \n",
    "            lengths = allele_lengths(ref, alt)\n",
    "\n",
    "            if ((len(lengths) >= 5 and any((l-len(ref)) > 10000 for l in lengths)) ):\n",
    "                interesting_alleles.append(line.strip())\n"
   ]
  },
  {
   "cell_type": "code",
   "execution_count": 44,
   "metadata": {},
   "outputs": [],
   "source": [
    "with open('interesting_sites.tsv' , 'w') as f:\n",
    "    f.write('chr\\tpos\\talt\\n')\n",
    "    for site in interesting_alleles:\n",
    "        items = site.split('\\t')\n",
    "        sv_lengths = [str(len(item)) for item in items[4].split(',')]\n",
    "        f.write(f'{items[0]}\\t{items[1]}\\t{\",\".join((sv_lengths))}\\n')"
   ]
  },
  {
   "cell_type": "code",
   "execution_count": 8,
   "metadata": {},
   "outputs": [],
   "source": [
    "import pandas as pd"
   ]
  },
  {
   "cell_type": "code",
   "execution_count": 18,
   "metadata": {},
   "outputs": [],
   "source": [
    "def get_df(sites):\n",
    "    data = []\n",
    "    for site in sites:\n",
    "        data.append((site.split()[0], int(site.split()[1])))\n",
    "     \n",
    "    return pd.DataFrame(data, columns=['chrom', 'pos'])"
   ]
  },
  {
   "cell_type": "code",
   "execution_count": 23,
   "metadata": {},
   "outputs": [],
   "source": [
    "\n",
    "all_sites_df[1] = pd.to_numeric(all_sites_df[1])"
   ]
  },
  {
   "cell_type": "code",
   "execution_count": 24,
   "metadata": {},
   "outputs": [],
   "source": [
    "site_df = get_df(interesting_alleles)"
   ]
  },
  {
   "cell_type": "code",
   "execution_count": 50,
   "metadata": {},
   "outputs": [],
   "source": [
    "window_size = 5000\n",
    "regions = []\n",
    "for i,site in site_df.iterrows():\n",
    "\n",
    "    chrom = site['chrom']\n",
    "    pos = site['pos']\n",
    "\n",
    "    sites_in_window = all_sites_df.loc[(all_sites_df[0] == chrom ) & (all_sites_df[1]>pos-window_size) & (all_sites_df[1]<pos+window_size)]\n",
    "    \n",
    "    if sites_in_window.shape[0] >= 2:\n",
    "        regions.append([chrom, pos-window_size, pos+window_size])\n",
    "        \n",
    "       \n",
    "    \n",
    "    \n",
    "        "
   ]
  },
  {
   "cell_type": "code",
   "execution_count": 51,
   "metadata": {},
   "outputs": [
    {
     "data": {
      "text/plain": [
       "386"
      ]
     },
     "execution_count": 51,
     "metadata": {},
     "output_type": "execute_result"
    }
   ],
   "source": [
    "len(regions)"
   ]
  },
  {
   "cell_type": "code",
   "execution_count": 45,
   "metadata": {},
   "outputs": [],
   "source": [
    "def extract_genes_from_gff3(filename):\n",
    "    genes = []\n",
    "    with open(filename, 'r') as gff:\n",
    "        for line in gff:\n",
    "            if not line.startswith(\"#\"):  # Ignore comment lines\n",
    "                parts = line.strip().split(\"\\t\")\n",
    "                if parts[2] == \"gene\" or parts[2] == \"pseudogene\":\n",
    "                    chrom = parts[0]\n",
    "                    start = int(parts[3])\n",
    "                    end = int(parts[4])\n",
    "                    attributes = parts[8].split(\";\")\n",
    "                    gene_name = None\n",
    "                    is_protein_coding = False\n",
    "                    for attribute in attributes:\n",
    "                        if attribute.startswith(\"ID=\"):\n",
    "                            gene_name = attribute.split(\"=\")[1]\n",
    "                        if attribute == \"gene_biotype=protein_coding\":\n",
    "                                is_protein_coding = True\n",
    "                            \n",
    "                    if gene_name:\n",
    "                        genes.append((chrom,start, end, '-'.join(gene_name.split('-')[1:]), is_protein_coding))\n",
    "    return genes\n"
   ]
  },
  {
   "cell_type": "code",
   "execution_count": 52,
   "metadata": {},
   "outputs": [],
   "source": [
    "def variants_within_flank(variants, genes, flank_size):\n",
    "    result = {}\n",
    "    \n",
    "    for i,line in variants.iterrows():\n",
    "        chrom = line['CHROM']\n",
    "        pos = int(line['POS'])\n",
    "        start_flank = pos - flank_size\n",
    "        end_flank = pos + flank_size\n",
    "        \n",
    "        # Check if genes are within the flanking region\n",
    "        for start, end, gene_name in genes.get(chrom, []):\n",
    "                    if start < end_flank and end > start_flank:\n",
    "                        key = (chrom, pos)\n",
    "                        if key not in result:\n",
    "                            result[key] = []\n",
    "                        result[key].append(gene_name)\n",
    "    return result"
   ]
  },
  {
   "cell_type": "code",
   "execution_count": 34,
   "metadata": {},
   "outputs": [],
   "source": [
    "def count_genes(gff3_file):\n",
    "    with open(gff3_file, 'r') as f:\n",
    "        # Filter out comment lines and split by tabs\n",
    "        lines = [line.split('\\t') for line in f if not line.startswith('#')]\n",
    "        \n",
    "        # Count lines where the third column is \"gene\"\n",
    "        return sum(1 for line in lines if len(line) > 2 and line[2] == 'gene')"
   ]
  },
  {
   "cell_type": "code",
   "execution_count": 46,
   "metadata": {},
   "outputs": [],
   "source": [
    "def extract_genes_from_region(filename, chrom_filter, start_filter, end_filter):\n",
    "    all_genes = []\n",
    "    pc_genes = []\n",
    "    with open(filename, 'r') as gff:\n",
    "        for line in gff:\n",
    "            if not line.startswith(\"#\"):  # Ignore comment lines\n",
    "                parts = line.strip().split(\"\\t\")\n",
    "                chrom = parts[0]\n",
    "                start = int(parts[3])\n",
    "                end = int(parts[4])\n",
    "                \n",
    "                # Filter for the specific region\n",
    "                if chrom == chrom_filter and (parts[2] == \"gene\" or parts[2] == \"pseudogene\") and start_filter <= start and end_filter >= end:\n",
    "                    attributes = parts[8].split(\";\")\n",
    "                    gene_name = None\n",
    "                    is_protein_coding = False\n",
    "                    for attribute in attributes:\n",
    "                        if attribute.startswith(\"ID=\"):\n",
    "                            gene_name = attribute.split(\"=\")[1]\n",
    "                        if attribute == \"gene_biotype=protein_coding\":\n",
    "                                is_protein_coding = True\n",
    "                                \n",
    "                        \n",
    "                    if gene_name:\n",
    "                        all_genes.append(gene_name)\n",
    "                        \n",
    "                    if gene_name and is_protein_coding:\n",
    "                        pc_genes.append(gene_name)\n",
    "    return all_genes, pc_genes"
   ]
  },
  {
   "cell_type": "code",
   "execution_count": 47,
   "metadata": {},
   "outputs": [],
   "source": [
    "def extract_genes_from_region(genes, chrom_filter, start_filter, end_filter):\n",
    "    all_genes = []\n",
    "    pc_genes = []\n",
    "   \n",
    "    for line in gff:\n",
    "        if not line.startswith(\"#\"):  # Ignore comment lines\n",
    "            parts = line.strip().split(\"\\t\")\n",
    "            chrom = parts[0]\n",
    "            start = int(parts[3])\n",
    "            end = int(parts[4])\n",
    "            \n",
    "            # Filter for the specific region\n",
    "            if chrom == chrom_filter and (parts[2] == \"gene\" or parts[2] == \"pseudogene\") and start_filter <= start and end_filter >= end:\n",
    "                attributes = parts[8].split(\";\")\n",
    "                gene_name = None\n",
    "                is_protein_coding = False\n",
    "                for attribute in attributes:\n",
    "                    if attribute.startswith(\"ID=\"):\n",
    "                        gene_name = attribute.split(\"=\")[1]\n",
    "                    if attribute == \"gene_biotype=protein_coding\":\n",
    "                            is_protein_coding = True\n",
    "                            \n",
    "                    \n",
    "                if gene_name:\n",
    "                    all_genes.append(gene_name)\n",
    "                    \n",
    "                if gene_name and is_protein_coding:\n",
    "                    pc_genes.append(gene_name)\n",
    "    return all_genes, pc_genes"
   ]
  },
  {
   "cell_type": "code",
   "execution_count": 53,
   "metadata": {},
   "outputs": [],
   "source": [
    "\n",
    "gff3_file = \"chm13_genomic_chr.gff3\"\n",
    "\n",
    "all_genes_df = pd.DataFrame(extract_genes_from_gff3(gff3_file))\n",
    "# total_genes = count_genes(gff3_file)"
   ]
  },
  {
   "cell_type": "code",
   "execution_count": 54,
   "metadata": {},
   "outputs": [],
   "source": [
    "recessive_genes = pd.read_excel('Recessive genes_GA gene list.xlsx')"
   ]
  },
  {
   "cell_type": "code",
   "execution_count": 55,
   "metadata": {},
   "outputs": [],
   "source": [
    "recessive_gene_set = set(recessive_genes['Gene Name'])"
   ]
  },
  {
   "cell_type": "code",
   "execution_count": 56,
   "metadata": {},
   "outputs": [],
   "source": [
    "for region in regions:\n",
    "    chr = region[0]\n",
    "    start = region[1]\n",
    "    end = region[2]\n",
    "\n",
    "    temp_genes_df = all_genes_df.loc[(all_genes_df[0] == chr) & (pd.to_numeric(all_genes_df[1]) > start) & (pd.to_numeric(all_genes_df[2]) < end)   ]\n",
    "    all = list(temp_genes_df[3])\n",
    "    pc = list(temp_genes_df.loc[temp_genes_df[4], 3])\n",
    "\n",
    "    region.append(','.join(all))\n",
    "    region.append(len(all))\n",
    "    region.append(','.join(pc))\n",
    "    region.append(len(pc))\n",
    "    region.append(''.join(set(pc).intersection(recessive_gene_set)))\n",
    "    region.append(len(set(pc).intersection(recessive_gene_set)))\n",
    "    "
   ]
  },
  {
   "cell_type": "code",
   "execution_count": 57,
   "metadata": {},
   "outputs": [],
   "source": [
    "pd.DataFrame(regions, columns=['chr','start','end', 'all_genes','no of genes', 'protein_genes', 'no of pc genes', 'recessive_genes', 'no of recessive genes']).to_csv('genes_in_regions_with_one_extra_site_10kb.csv', index=None)"
   ]
  },
  {
   "cell_type": "code",
   "execution_count": 117,
   "metadata": {},
   "outputs": [
    {
     "data": {
      "text/plain": [
       "set()"
      ]
     },
     "execution_count": 117,
     "metadata": {},
     "output_type": "execute_result"
    }
   ],
   "source": [
    "set('RPS9,LILRB3,LILRA6,LILRB5,LILRB2'.split(',')).intersection(recessive_gene_set)"
   ]
  },
  {
   "cell_type": "code",
   "execution_count": 104,
   "metadata": {},
   "outputs": [],
   "source": [
    "range = 500000"
   ]
  },
  {
   "cell_type": "code",
   "execution_count": 105,
   "metadata": {},
   "outputs": [],
   "source": [
    "result = variants_within_flank(df, genes, range)"
   ]
  },
  {
   "cell_type": "code",
   "execution_count": 4,
   "metadata": {},
   "outputs": [
    {
     "ename": "NameError",
     "evalue": "name 'result' is not defined",
     "output_type": "error",
     "traceback": [
      "\u001b[0;31m---------------------------------------------------------------------------\u001b[0m",
      "\u001b[0;31mNameError\u001b[0m                                 Traceback (most recent call last)",
      "\u001b[1;32m/mnt/h700/omixlab/workflows/genome-project/assembly/pangenome/arp.hifiasm.v2.1_all/analyse/gene_analysis.ipynb Cell 14\u001b[0m line \u001b[0;36m1\n\u001b[0;32m----> <a href='vscode-notebook-cell://ssh-remote%2B172.30.13.24/mnt/h700/omixlab/workflows/genome-project/assembly/pangenome/arp.hifiasm.v2.1_all/analyse/gene_analysis.ipynb#X16sdnNjb2RlLXJlbW90ZQ%3D%3D?line=0'>1</a>\u001b[0m rows \u001b[39m=\u001b[39m [(key, val) \u001b[39mfor\u001b[39;00m key, values \u001b[39min\u001b[39;00m result\u001b[39m.\u001b[39mitems() \u001b[39mfor\u001b[39;00m val \u001b[39min\u001b[39;00m values]\n\u001b[1;32m      <a href='vscode-notebook-cell://ssh-remote%2B172.30.13.24/mnt/h700/omixlab/workflows/genome-project/assembly/pangenome/arp.hifiasm.v2.1_all/analyse/gene_analysis.ipynb#X16sdnNjb2RlLXJlbW90ZQ%3D%3D?line=2'>3</a>\u001b[0m \u001b[39m# Create a DataFrame\u001b[39;00m\n\u001b[1;32m      <a href='vscode-notebook-cell://ssh-remote%2B172.30.13.24/mnt/h700/omixlab/workflows/genome-project/assembly/pangenome/arp.hifiasm.v2.1_all/analyse/gene_analysis.ipynb#X16sdnNjb2RlLXJlbW90ZQ%3D%3D?line=3'>4</a>\u001b[0m gene_df \u001b[39m=\u001b[39m pd\u001b[39m.\u001b[39mDataFrame(rows, columns\u001b[39m=\u001b[39m[\u001b[39m'\u001b[39m\u001b[39mloc\u001b[39m\u001b[39m'\u001b[39m, \u001b[39m'\u001b[39m\u001b[39mgene\u001b[39m\u001b[39m'\u001b[39m])\n",
      "\u001b[0;31mNameError\u001b[0m: name 'result' is not defined"
     ]
    }
   ],
   "source": [
    "rows = [(key, val) for key, values in result.items() for val in values]\n",
    "\n",
    "# Create a DataFrame\n",
    "gene_df = pd.DataFrame(rows, columns=['loc', 'gene'])\n",
    "\n",
    "\n",
    "recessive_genes = pd.read_excel('Recessive genes_GA gene list.xlsx')\n",
    "intersect = gene_df.merge(recessive_genes, how='left', left_on='gene', right_on='Gene Name').dropna().drop(['Gene Name'], axis=1)\n",
    "intersect_dict = {}\n",
    "for i, row in intersect.iterrows():\n",
    "    if row['loc'] not in intersect_dict:\n",
    "        intersect_dict[row['loc']] = [] \n",
    "    intersect_dict[row['loc']].append(str(row['gene']))\n"
   ]
  },
  {
   "cell_type": "code",
   "execution_count": 107,
   "metadata": {},
   "outputs": [],
   "source": [
    "# intersect.to_csv('gene_recessive_intersection.csv', index= None)\n",
    "# intersect.groupby('loc').count().sort_values('gene', ascending=False).to_csv('count_recessive.csv', index=None)"
   ]
  },
  {
   "cell_type": "code",
   "execution_count": 108,
   "metadata": {},
   "outputs": [],
   "source": [
    "from scipy.stats import fisher_exact\n",
    "def pvalue_and_odds_ratio(total, first_set, second_set, overlap):\n",
    "    table = [[overlap, first_set-overlap], [second_set-overlap, total-first_set-second_set+overlap]]\n",
    "    odds_ratio, p_value = fisher_exact(table)\n",
    "    return odds_ratio, p_value"
   ]
  },
  {
   "cell_type": "code",
   "execution_count": 109,
   "metadata": {},
   "outputs": [],
   "source": [
    "pvalues= []\n",
    "for k,v in result.items():\n",
    "    site_genes = len(set(v))\n",
    "    if k in intersect_dict:\n",
    "        intersected_genes = len(set(intersect_dict[k]))\n",
    "    else:\n",
    "        intersected_genes = 0\n",
    "    total_recessive = recessive_genes.shape[0]\n",
    "    \n",
    "    o, p = pvalue_and_odds_ratio(total_genes, site_genes, total_recessive, intersected_genes)\n",
    "    \n",
    "    \n",
    "    if k in intersect_dict:\n",
    "        pvalues.append((k, p, o,site_genes,intersected_genes,','.join(set(v)), ','.join(set(intersect_dict[k]))))\n",
    "    else:\n",
    "        pvalues.append((k, p, o,site_genes,intersected_genes,','.join(set(v)), ''))\n",
    "    \n",
    "    "
   ]
  },
  {
   "cell_type": "code",
   "execution_count": 110,
   "metadata": {},
   "outputs": [],
   "source": [
    "p_df = pd.DataFrame(pvalues, columns = ['loc', 'pvalue', 'odds_ratio','number of genes in site', 'number of recessive genes in site', 'all genes', 'genes'])"
   ]
  },
  {
   "cell_type": "code",
   "execution_count": 111,
   "metadata": {},
   "outputs": [],
   "source": [
    "p_df.to_csv(f'recessive_overlap_{range*2}.csv')"
   ]
  },
  {
   "cell_type": "code",
   "execution_count": 112,
   "metadata": {},
   "outputs": [
    {
     "data": {
      "text/plain": [
       "50    0\n",
       "Name: genes, dtype: int64"
      ]
     },
     "execution_count": 112,
     "metadata": {},
     "output_type": "execute_result"
    }
   ],
   "source": [
    "(p_df.loc[p_df['loc']==('chr13', 12990689)]['genes'].str.len())"
   ]
  },
  {
   "cell_type": "code",
   "execution_count": 113,
   "metadata": {},
   "outputs": [],
   "source": [
    "p_df.to_csv('pvalue_per_site.csv', index=None)"
   ]
  },
  {
   "cell_type": "code",
   "execution_count": 114,
   "metadata": {},
   "outputs": [
    {
     "data": {
      "text/plain": [
       "138"
      ]
     },
     "execution_count": 114,
     "metadata": {},
     "output_type": "execute_result"
    }
   ],
   "source": [
    "intersect['gene'].unique().shape[0]"
   ]
  },
  {
   "cell_type": "code",
   "execution_count": 42,
   "metadata": {},
   "outputs": [
    {
     "data": {
      "text/plain": [
       "7018"
      ]
     },
     "execution_count": 42,
     "metadata": {},
     "output_type": "execute_result"
    }
   ],
   "source": []
  },
  {
   "cell_type": "code",
   "execution_count": null,
   "metadata": {},
   "outputs": [],
   "source": []
  },
  {
   "cell_type": "code",
   "execution_count": null,
   "metadata": {},
   "outputs": [],
   "source": [
    "from scipy.stats import fisher_exact\n",
    "def pvalue_and_odds_ratio(total, first_set, second_set, overlap):\n",
    "    table = [[overlap, first_set-overlap], [second_set-overlap, total-first_set-second_set+overlap]]\n",
    "    odds_ratio, p_value = fisher_exact(table)"
   ]
  },
  {
   "cell_type": "code",
   "execution_count": 5,
   "metadata": {},
   "outputs": [],
   "source": [
    "duplication_ratio_matrix = pd.read_csv('dup_ratio.csv')\n",
    "intersect=(set(duplication_ratio_matrix['Gene Name']).intersection(set(recessive_genes['Gene Name'])))"
   ]
  },
  {
   "cell_type": "code",
   "execution_count": 6,
   "metadata": {},
   "outputs": [],
   "source": [
    "duplication_ratio_matrix['sum'] = duplication_ratio_matrix[duplication_ratio_matrix['Gene Name'].isin(intersect)].iloc[:, 1:].sum(axis=1)\n",
    "duplication_ratio_matrix=duplication_ratio_matrix.sort_values('sum', ascending=False)"
   ]
  },
  {
   "cell_type": "code",
   "execution_count": 7,
   "metadata": {},
   "outputs": [
    {
     "data": {
      "text/html": [
       "<div>\n",
       "<style scoped>\n",
       "    .dataframe tbody tr th:only-of-type {\n",
       "        vertical-align: middle;\n",
       "    }\n",
       "\n",
       "    .dataframe tbody tr th {\n",
       "        vertical-align: top;\n",
       "    }\n",
       "\n",
       "    .dataframe thead th {\n",
       "        text-align: right;\n",
       "    }\n",
       "</style>\n",
       "<table border=\"1\" class=\"dataframe\">\n",
       "  <thead>\n",
       "    <tr style=\"text-align: right;\">\n",
       "      <th></th>\n",
       "      <th>Gene Name</th>\n",
       "      <th>brother-brother/1</th>\n",
       "      <th>brother-brother/2</th>\n",
       "      <th>father-father/1</th>\n",
       "      <th>father-father/2</th>\n",
       "      <th>gp001-gp001/1</th>\n",
       "      <th>gp001-gp001/2</th>\n",
       "      <th>gp002-gp002/1</th>\n",
       "      <th>gp002-gp002/2</th>\n",
       "      <th>gp003-gp003/1</th>\n",
       "      <th>...</th>\n",
       "      <th>gp038-gp038/2</th>\n",
       "      <th>gp039-gp039/1</th>\n",
       "      <th>gp039-gp039/2</th>\n",
       "      <th>gp040-gp040/1</th>\n",
       "      <th>gp040-gp040/2</th>\n",
       "      <th>gp041-gp041/1</th>\n",
       "      <th>gp041-gp041/2</th>\n",
       "      <th>mother-mother/1</th>\n",
       "      <th>mother-mother/2</th>\n",
       "      <th>sum</th>\n",
       "    </tr>\n",
       "  </thead>\n",
       "  <tbody>\n",
       "    <tr>\n",
       "      <th>1030</th>\n",
       "      <td>RRP7A</td>\n",
       "      <td>0.0</td>\n",
       "      <td>0.0</td>\n",
       "      <td>0.0</td>\n",
       "      <td>0.0</td>\n",
       "      <td>1.0</td>\n",
       "      <td>0.0</td>\n",
       "      <td>1.0</td>\n",
       "      <td>1.0</td>\n",
       "      <td>0.0</td>\n",
       "      <td>...</td>\n",
       "      <td>0.0</td>\n",
       "      <td>0.0</td>\n",
       "      <td>1.0</td>\n",
       "      <td>0.0</td>\n",
       "      <td>0.0</td>\n",
       "      <td>0.0</td>\n",
       "      <td>0.0</td>\n",
       "      <td>0.0</td>\n",
       "      <td>0.0</td>\n",
       "      <td>15.0</td>\n",
       "    </tr>\n",
       "    <tr>\n",
       "      <th>1094</th>\n",
       "      <td>SMN1</td>\n",
       "      <td>0.0</td>\n",
       "      <td>0.0</td>\n",
       "      <td>0.0</td>\n",
       "      <td>0.0</td>\n",
       "      <td>0.0</td>\n",
       "      <td>0.0</td>\n",
       "      <td>0.0</td>\n",
       "      <td>1.0</td>\n",
       "      <td>0.0</td>\n",
       "      <td>...</td>\n",
       "      <td>0.0</td>\n",
       "      <td>0.0</td>\n",
       "      <td>0.0</td>\n",
       "      <td>0.0</td>\n",
       "      <td>0.0</td>\n",
       "      <td>0.0</td>\n",
       "      <td>0.0</td>\n",
       "      <td>0.0</td>\n",
       "      <td>1.0</td>\n",
       "      <td>9.0</td>\n",
       "    </tr>\n",
       "    <tr>\n",
       "      <th>244</th>\n",
       "      <td>CYP21A2</td>\n",
       "      <td>0.0</td>\n",
       "      <td>0.0</td>\n",
       "      <td>0.0</td>\n",
       "      <td>0.0</td>\n",
       "      <td>0.0</td>\n",
       "      <td>0.0</td>\n",
       "      <td>0.0</td>\n",
       "      <td>1.0</td>\n",
       "      <td>0.0</td>\n",
       "      <td>...</td>\n",
       "      <td>0.0</td>\n",
       "      <td>0.0</td>\n",
       "      <td>0.0</td>\n",
       "      <td>0.0</td>\n",
       "      <td>0.0</td>\n",
       "      <td>0.0</td>\n",
       "      <td>0.0</td>\n",
       "      <td>0.0</td>\n",
       "      <td>0.0</td>\n",
       "      <td>6.0</td>\n",
       "    </tr>\n",
       "    <tr>\n",
       "      <th>251</th>\n",
       "      <td>DBR1</td>\n",
       "      <td>0.0</td>\n",
       "      <td>0.0</td>\n",
       "      <td>0.0</td>\n",
       "      <td>0.0</td>\n",
       "      <td>0.0</td>\n",
       "      <td>0.0</td>\n",
       "      <td>0.0</td>\n",
       "      <td>0.0</td>\n",
       "      <td>0.0</td>\n",
       "      <td>...</td>\n",
       "      <td>0.0</td>\n",
       "      <td>0.0</td>\n",
       "      <td>0.0</td>\n",
       "      <td>0.0</td>\n",
       "      <td>0.0</td>\n",
       "      <td>0.0</td>\n",
       "      <td>0.0</td>\n",
       "      <td>0.0</td>\n",
       "      <td>0.0</td>\n",
       "      <td>4.0</td>\n",
       "    </tr>\n",
       "    <tr>\n",
       "      <th>297</th>\n",
       "      <td>DPY19L2</td>\n",
       "      <td>0.0</td>\n",
       "      <td>0.0</td>\n",
       "      <td>0.0</td>\n",
       "      <td>0.0</td>\n",
       "      <td>0.0</td>\n",
       "      <td>0.0</td>\n",
       "      <td>0.0</td>\n",
       "      <td>0.0</td>\n",
       "      <td>0.0</td>\n",
       "      <td>...</td>\n",
       "      <td>0.0</td>\n",
       "      <td>0.0</td>\n",
       "      <td>0.0</td>\n",
       "      <td>0.0</td>\n",
       "      <td>0.0</td>\n",
       "      <td>0.0</td>\n",
       "      <td>0.0</td>\n",
       "      <td>0.0</td>\n",
       "      <td>0.0</td>\n",
       "      <td>3.0</td>\n",
       "    </tr>\n",
       "    <tr>\n",
       "      <th>417</th>\n",
       "      <td>FDFT1</td>\n",
       "      <td>0.0</td>\n",
       "      <td>0.0</td>\n",
       "      <td>0.0</td>\n",
       "      <td>0.0</td>\n",
       "      <td>0.0</td>\n",
       "      <td>0.0</td>\n",
       "      <td>0.0</td>\n",
       "      <td>0.0</td>\n",
       "      <td>1.0</td>\n",
       "      <td>...</td>\n",
       "      <td>0.0</td>\n",
       "      <td>0.0</td>\n",
       "      <td>0.0</td>\n",
       "      <td>0.0</td>\n",
       "      <td>0.0</td>\n",
       "      <td>1.0</td>\n",
       "      <td>0.0</td>\n",
       "      <td>0.0</td>\n",
       "      <td>0.0</td>\n",
       "      <td>3.0</td>\n",
       "    </tr>\n",
       "    <tr>\n",
       "      <th>1415</th>\n",
       "      <td>ZP2</td>\n",
       "      <td>0.0</td>\n",
       "      <td>0.0</td>\n",
       "      <td>0.0</td>\n",
       "      <td>0.0</td>\n",
       "      <td>0.0</td>\n",
       "      <td>0.0</td>\n",
       "      <td>0.0</td>\n",
       "      <td>0.0</td>\n",
       "      <td>0.0</td>\n",
       "      <td>...</td>\n",
       "      <td>0.0</td>\n",
       "      <td>0.0</td>\n",
       "      <td>0.0</td>\n",
       "      <td>0.0</td>\n",
       "      <td>1.0</td>\n",
       "      <td>0.0</td>\n",
       "      <td>0.0</td>\n",
       "      <td>0.0</td>\n",
       "      <td>0.0</td>\n",
       "      <td>3.0</td>\n",
       "    </tr>\n",
       "    <tr>\n",
       "      <th>107</th>\n",
       "      <td>C4B</td>\n",
       "      <td>0.0</td>\n",
       "      <td>0.0</td>\n",
       "      <td>0.0</td>\n",
       "      <td>0.0</td>\n",
       "      <td>0.0</td>\n",
       "      <td>0.0</td>\n",
       "      <td>0.0</td>\n",
       "      <td>0.0</td>\n",
       "      <td>0.0</td>\n",
       "      <td>...</td>\n",
       "      <td>0.0</td>\n",
       "      <td>1.0</td>\n",
       "      <td>0.0</td>\n",
       "      <td>0.0</td>\n",
       "      <td>0.0</td>\n",
       "      <td>0.0</td>\n",
       "      <td>0.0</td>\n",
       "      <td>0.0</td>\n",
       "      <td>0.0</td>\n",
       "      <td>3.0</td>\n",
       "    </tr>\n",
       "    <tr>\n",
       "      <th>1157</th>\n",
       "      <td>SYCE1</td>\n",
       "      <td>0.0</td>\n",
       "      <td>0.0</td>\n",
       "      <td>0.0</td>\n",
       "      <td>0.0</td>\n",
       "      <td>0.0</td>\n",
       "      <td>0.0</td>\n",
       "      <td>0.0</td>\n",
       "      <td>0.0</td>\n",
       "      <td>0.0</td>\n",
       "      <td>...</td>\n",
       "      <td>0.0</td>\n",
       "      <td>1.0</td>\n",
       "      <td>1.0</td>\n",
       "      <td>0.0</td>\n",
       "      <td>0.0</td>\n",
       "      <td>0.0</td>\n",
       "      <td>0.0</td>\n",
       "      <td>0.0</td>\n",
       "      <td>0.0</td>\n",
       "      <td>3.0</td>\n",
       "    </tr>\n",
       "    <tr>\n",
       "      <th>880</th>\n",
       "      <td>PHKG2</td>\n",
       "      <td>0.0</td>\n",
       "      <td>0.0</td>\n",
       "      <td>0.0</td>\n",
       "      <td>0.0</td>\n",
       "      <td>0.0</td>\n",
       "      <td>0.0</td>\n",
       "      <td>0.0</td>\n",
       "      <td>0.0</td>\n",
       "      <td>0.0</td>\n",
       "      <td>...</td>\n",
       "      <td>0.0</td>\n",
       "      <td>0.0</td>\n",
       "      <td>0.0</td>\n",
       "      <td>0.0</td>\n",
       "      <td>0.0</td>\n",
       "      <td>0.0</td>\n",
       "      <td>0.0</td>\n",
       "      <td>0.0</td>\n",
       "      <td>0.0</td>\n",
       "      <td>2.0</td>\n",
       "    </tr>\n",
       "  </tbody>\n",
       "</table>\n",
       "<p>10 rows × 88 columns</p>\n",
       "</div>"
      ],
      "text/plain": [
       "     Gene Name  brother-brother/1  brother-brother/2  father-father/1  \\\n",
       "1030     RRP7A                0.0                0.0              0.0   \n",
       "1094      SMN1                0.0                0.0              0.0   \n",
       "244    CYP21A2                0.0                0.0              0.0   \n",
       "251       DBR1                0.0                0.0              0.0   \n",
       "297    DPY19L2                0.0                0.0              0.0   \n",
       "417      FDFT1                0.0                0.0              0.0   \n",
       "1415       ZP2                0.0                0.0              0.0   \n",
       "107        C4B                0.0                0.0              0.0   \n",
       "1157     SYCE1                0.0                0.0              0.0   \n",
       "880      PHKG2                0.0                0.0              0.0   \n",
       "\n",
       "      father-father/2  gp001-gp001/1  gp001-gp001/2  gp002-gp002/1  \\\n",
       "1030              0.0            1.0            0.0            1.0   \n",
       "1094              0.0            0.0            0.0            0.0   \n",
       "244               0.0            0.0            0.0            0.0   \n",
       "251               0.0            0.0            0.0            0.0   \n",
       "297               0.0            0.0            0.0            0.0   \n",
       "417               0.0            0.0            0.0            0.0   \n",
       "1415              0.0            0.0            0.0            0.0   \n",
       "107               0.0            0.0            0.0            0.0   \n",
       "1157              0.0            0.0            0.0            0.0   \n",
       "880               0.0            0.0            0.0            0.0   \n",
       "\n",
       "      gp002-gp002/2  gp003-gp003/1  ...  gp038-gp038/2  gp039-gp039/1  \\\n",
       "1030            1.0            0.0  ...            0.0            0.0   \n",
       "1094            1.0            0.0  ...            0.0            0.0   \n",
       "244             1.0            0.0  ...            0.0            0.0   \n",
       "251             0.0            0.0  ...            0.0            0.0   \n",
       "297             0.0            0.0  ...            0.0            0.0   \n",
       "417             0.0            1.0  ...            0.0            0.0   \n",
       "1415            0.0            0.0  ...            0.0            0.0   \n",
       "107             0.0            0.0  ...            0.0            1.0   \n",
       "1157            0.0            0.0  ...            0.0            1.0   \n",
       "880             0.0            0.0  ...            0.0            0.0   \n",
       "\n",
       "      gp039-gp039/2  gp040-gp040/1  gp040-gp040/2  gp041-gp041/1  \\\n",
       "1030            1.0            0.0            0.0            0.0   \n",
       "1094            0.0            0.0            0.0            0.0   \n",
       "244             0.0            0.0            0.0            0.0   \n",
       "251             0.0            0.0            0.0            0.0   \n",
       "297             0.0            0.0            0.0            0.0   \n",
       "417             0.0            0.0            0.0            1.0   \n",
       "1415            0.0            0.0            1.0            0.0   \n",
       "107             0.0            0.0            0.0            0.0   \n",
       "1157            1.0            0.0            0.0            0.0   \n",
       "880             0.0            0.0            0.0            0.0   \n",
       "\n",
       "      gp041-gp041/2  mother-mother/1  mother-mother/2   sum  \n",
       "1030            0.0              0.0              0.0  15.0  \n",
       "1094            0.0              0.0              1.0   9.0  \n",
       "244             0.0              0.0              0.0   6.0  \n",
       "251             0.0              0.0              0.0   4.0  \n",
       "297             0.0              0.0              0.0   3.0  \n",
       "417             0.0              0.0              0.0   3.0  \n",
       "1415            0.0              0.0              0.0   3.0  \n",
       "107             0.0              0.0              0.0   3.0  \n",
       "1157            0.0              0.0              0.0   3.0  \n",
       "880             0.0              0.0              0.0   2.0  \n",
       "\n",
       "[10 rows x 88 columns]"
      ]
     },
     "execution_count": 7,
     "metadata": {},
     "output_type": "execute_result"
    }
   ],
   "source": [
    "duplication_ratio_matrix.iloc[:10]"
   ]
  },
  {
   "cell_type": "code",
   "execution_count": 41,
   "metadata": {},
   "outputs": [],
   "source": [
    "def get_gene_location_from_gff(gff_file, gene_names):\n",
    "    \"\"\"\n",
    "    Extract the location of a gene from a GFF file.\n",
    "    \n",
    "    Args:\n",
    "    - gff_file (str): Path to the GFF file.\n",
    "    - gene_name (str): Name of the gene.\n",
    "    \n",
    "    Returns:\n",
    "    - dict: Information about the gene including its location, or None if not found.\n",
    "    \"\"\"\n",
    "    \n",
    "    found_genes = []\n",
    "    with open(gff_file, 'r') as file:\n",
    "        for line in file:\n",
    "            if line.startswith('#'):  # Skip comment lines\n",
    "                continue\n",
    "            fields = line.strip().split('\\t')\n",
    "            if len(fields) < 9:  # A valid GFF row should have 9 columns\n",
    "                continue\n",
    "            \n",
    "            # Check if the current feature is a gene and if the name matches\n",
    "            feature_type = fields[2]\n",
    "            attributes = fields[8]\n",
    "   \n",
    "\n",
    "            gene_name = '-'.join(attributes.split(';')[0].split('=')[-1].split('-')[1:])\n",
    "           \n",
    "            \n",
    "            if feature_type == \"gene\" and gene_name in genes:\n",
    "                found_genes.append( {\n",
    "                    \"Gene\": gene_name,\n",
    "                    \"Chromosome\": fields[0],\n",
    "                    \"Start\": int(fields[3]),\n",
    "                    \"End\":int(fields[4]),\n",
    "                    \"Strand\": fields[6]\n",
    "                }\n",
    "            )\n",
    "    return found_genes\n",
    "\n"
   ]
  },
  {
   "cell_type": "code",
   "execution_count": 42,
   "metadata": {},
   "outputs": [],
   "source": [
    "\n",
    "genes = list(duplication_ratio_matrix['Gene Name'].iloc[:10])\n",
    "gff_path = \"chm13_genomic_chr.gff3\"\n",
    "gene_name = 'RRP7A'\n",
    "genes_list = get_gene_location_from_gff(gff_path, gene_name)\n",
    "\n"
   ]
  },
  {
   "cell_type": "code",
   "execution_count": 43,
   "metadata": {},
   "outputs": [
    {
     "data": {
      "text/plain": [
       "[{'Gene': 'DBR1',\n",
       "  'Chromosome': 'chr3',\n",
       "  'Start': 140901580,\n",
       "  'End': 140915511,\n",
       "  'Strand': '-'},\n",
       " {'Gene': 'SMN1',\n",
       "  'Chromosome': 'chr5',\n",
       "  'Start': 71381729,\n",
       "  'End': 71423141,\n",
       "  'Strand': '+'},\n",
       " {'Gene': 'C4B',\n",
       "  'Chromosome': 'chr6',\n",
       "  'Start': 31868001,\n",
       "  'End': 31888625,\n",
       "  'Strand': '+'},\n",
       " {'Gene': 'CYP21A2',\n",
       "  'Chromosome': 'chr6',\n",
       "  'Start': 31891622,\n",
       "  'End': 31894848,\n",
       "  'Strand': '+'},\n",
       " {'Gene': 'FDFT1',\n",
       "  'Chromosome': 'chr8',\n",
       "  'Start': 7900999,\n",
       "  'End': 7944714,\n",
       "  'Strand': '-'},\n",
       " {'Gene': 'SYCE1',\n",
       "  'Chromosome': 'chr10',\n",
       "  'Start': 134505424,\n",
       "  'End': 134519736,\n",
       "  'Strand': '-'},\n",
       " {'Gene': 'DPY19L2',\n",
       "  'Chromosome': 'chr12',\n",
       "  'Start': 63537270,\n",
       "  'End': 63646941,\n",
       "  'Strand': '-'},\n",
       " {'Gene': 'ZP2',\n",
       "  'Chromosome': 'chr16',\n",
       "  'Start': 21128399,\n",
       "  'End': 21145450,\n",
       "  'Strand': '-'},\n",
       " {'Gene': 'PHKG2',\n",
       "  'Chromosome': 'chr16',\n",
       "  'Start': 31135424,\n",
       "  'End': 31148597,\n",
       "  'Strand': '+'},\n",
       " {'Gene': 'RRP7A',\n",
       "  'Chromosome': 'chr22',\n",
       "  'Start': 42989327,\n",
       "  'End': 43000778,\n",
       "  'Strand': '-'}]"
      ]
     },
     "execution_count": 43,
     "metadata": {},
     "output_type": "execute_result"
    }
   ],
   "source": [
    "genes_list"
   ]
  },
  {
   "cell_type": "code",
   "execution_count": 50,
   "metadata": {},
   "outputs": [],
   "source": [
    "def parse_gff(gff_file):\n",
    "    \"\"\"Extract all genes and their positions from a GFF file.\"\"\"\n",
    "    genes = []\n",
    "    with open(gff_file, 'r') as file:\n",
    "        for line in file:\n",
    "            if line.startswith('#'):  # Skip comment lines\n",
    "                continue\n",
    "            fields = line.strip().split('\\t')\n",
    "            if len(fields) < 9:  # A valid GFF row should have 9 columns\n",
    "                continue\n",
    "            \n",
    "            # Check if the current feature is a gene\n",
    "            feature_type = fields[2]\n",
    "            attributes = fields[8]\n",
    "            gene_name = '-'.join(attributes.split(';')[0].split('=')[-1].split('-')[1:])\n",
    "            if feature_type == \"gene\":\n",
    "                genes.append({\n",
    "                    'Gene': fields[8].split(';')[0].split('=')[-1],\n",
    "                    \"Chromosome\": fields[0],\n",
    "                    \"Start\": int(fields[3]),\n",
    "                    \"End\": int(fields[4]),\n",
    "                    \"Strand\": fields[6]\n",
    "                })\n",
    "    return genes\n",
    "\n",
    "def find_nearby_genes(target_gene, gff_genes, distance=10000):\n",
    "    \"\"\"Find genes within a specified distance from a target gene.\"\"\"\n",
    "    nearby = []\n",
    "    for gene in gff_genes:\n",
    "        if gene[\"Chromosome\"] == target_gene[\"Chromosome\"]:\n",
    "            # Check if gene is within the distance upstream or downstream\n",
    "            if target_gene[\"Start\"] - distance <= gene[\"End\"] <= target_gene[\"Start\"] or target_gene[\"End\"] <= gene[\"Start\"] <= target_gene[\"End\"] + distance:\n",
    "                nearby.append(gene)\n",
    "    return nearby"
   ]
  },
  {
   "cell_type": "code",
   "execution_count": 51,
   "metadata": {},
   "outputs": [],
   "source": [
    "gff_genes = parse_gff(gff_path)"
   ]
  },
  {
   "cell_type": "code",
   "execution_count": 52,
   "metadata": {},
   "outputs": [
    {
     "name": "stdout",
     "output_type": "stream",
     "text": [
      "\n",
      "\n",
      "- gene-SERF1A chr5:71357441-71375322 (Strand: +)\n",
      "- gene-NAIP chr5:71424931-71482091 (Strand: -)\n",
      "\n",
      "\n",
      "- gene-CYP21A2 chr6:31891622-31894848 (Strand: +)\n",
      "- gene-TNXB chr6:31894357-31962530 (Strand: -)\n",
      "\n",
      "\n",
      "- gene-C4B chr6:31868001-31888625 (Strand: +)\n",
      "\n",
      "\n",
      "- gene-CTSB chr8:7872212-7897789 (Strand: +)\n",
      "- gene-NEIL2 chr8:7952965-7970597 (Strand: -)\n",
      "\n",
      "\n",
      "\n",
      "\n",
      "- gene-LOC105369797 chr12:63524154-63530248 (Strand: -)\n",
      "\n",
      "\n",
      "\n",
      "\n",
      "- gene-SRCAP chr16:31086152-31128418 (Strand: +)\n",
      "- gene-TMEM265 chr16:31127651-31132204 (Strand: +)\n",
      "- gene-RNF40 chr16:31149033-31163750 (Strand: +)\n",
      "\n",
      "\n",
      "- gene-LOC101927372 chr22:42982889-42986839 (Strand: -)\n",
      "\n",
      "\n"
     ]
    }
   ],
   "source": [
    "for gene in genes_list:\n",
    "    nearby_genes = find_nearby_genes(gene, gff_genes)\n",
    "    \n",
    "    gene['nearby_genes'] = nearby_genes\n",
    "    for nearby in nearby_genes:\n",
    "        print(f\"- {nearby['Gene']} {nearby['Chromosome']}:{nearby['Start']}-{nearby['End']} (Strand: {nearby['Strand']})\")\n",
    "    print(\"\\n\")"
   ]
  },
  {
   "cell_type": "code",
   "execution_count": 54,
   "metadata": {},
   "outputs": [
    {
     "data": {
      "text/plain": [
       "[{'Gene': 'PHKG2',\n",
       "  'Chromosome': 'chr16',\n",
       "  'Start': 31135424,\n",
       "  'End': 31148597,\n",
       "  'Strand': '+',\n",
       "  'nearby_genes': [{'Gene': 'gene-SRCAP',\n",
       "    'Chromosome': 'chr16',\n",
       "    'Start': 31086152,\n",
       "    'End': 31128418,\n",
       "    'Strand': '+'},\n",
       "   {'Gene': 'gene-TMEM265',\n",
       "    'Chromosome': 'chr16',\n",
       "    'Start': 31127651,\n",
       "    'End': 31132204,\n",
       "    'Strand': '+'},\n",
       "   {'Gene': 'gene-RNF40',\n",
       "    'Chromosome': 'chr16',\n",
       "    'Start': 31149033,\n",
       "    'End': 31163750,\n",
       "    'Strand': '+'}]},\n",
       " {'Gene': 'SMN1',\n",
       "  'Chromosome': 'chr5',\n",
       "  'Start': 71381729,\n",
       "  'End': 71423141,\n",
       "  'Strand': '+',\n",
       "  'nearby_genes': [{'Gene': 'gene-SERF1A',\n",
       "    'Chromosome': 'chr5',\n",
       "    'Start': 71357441,\n",
       "    'End': 71375322,\n",
       "    'Strand': '+'},\n",
       "   {'Gene': 'gene-NAIP',\n",
       "    'Chromosome': 'chr5',\n",
       "    'Start': 71424931,\n",
       "    'End': 71482091,\n",
       "    'Strand': '-'}]},\n",
       " {'Gene': 'C4B',\n",
       "  'Chromosome': 'chr6',\n",
       "  'Start': 31868001,\n",
       "  'End': 31888625,\n",
       "  'Strand': '+',\n",
       "  'nearby_genes': [{'Gene': 'gene-CYP21A2',\n",
       "    'Chromosome': 'chr6',\n",
       "    'Start': 31891622,\n",
       "    'End': 31894848,\n",
       "    'Strand': '+'},\n",
       "   {'Gene': 'gene-TNXB',\n",
       "    'Chromosome': 'chr6',\n",
       "    'Start': 31894357,\n",
       "    'End': 31962530,\n",
       "    'Strand': '-'}]},\n",
       " {'Gene': 'FDFT1',\n",
       "  'Chromosome': 'chr8',\n",
       "  'Start': 7900999,\n",
       "  'End': 7944714,\n",
       "  'Strand': '-',\n",
       "  'nearby_genes': [{'Gene': 'gene-CTSB',\n",
       "    'Chromosome': 'chr8',\n",
       "    'Start': 7872212,\n",
       "    'End': 7897789,\n",
       "    'Strand': '+'},\n",
       "   {'Gene': 'gene-NEIL2',\n",
       "    'Chromosome': 'chr8',\n",
       "    'Start': 7952965,\n",
       "    'End': 7970597,\n",
       "    'Strand': '-'}]},\n",
       " {'Gene': 'CYP21A2',\n",
       "  'Chromosome': 'chr6',\n",
       "  'Start': 31891622,\n",
       "  'End': 31894848,\n",
       "  'Strand': '+',\n",
       "  'nearby_genes': [{'Gene': 'gene-C4B',\n",
       "    'Chromosome': 'chr6',\n",
       "    'Start': 31868001,\n",
       "    'End': 31888625,\n",
       "    'Strand': '+'}]},\n",
       " {'Gene': 'DPY19L2',\n",
       "  'Chromosome': 'chr12',\n",
       "  'Start': 63537270,\n",
       "  'End': 63646941,\n",
       "  'Strand': '-',\n",
       "  'nearby_genes': [{'Gene': 'gene-LOC105369797',\n",
       "    'Chromosome': 'chr12',\n",
       "    'Start': 63524154,\n",
       "    'End': 63530248,\n",
       "    'Strand': '-'}]},\n",
       " {'Gene': 'RRP7A',\n",
       "  'Chromosome': 'chr22',\n",
       "  'Start': 42989327,\n",
       "  'End': 43000778,\n",
       "  'Strand': '-',\n",
       "  'nearby_genes': [{'Gene': 'gene-LOC101927372',\n",
       "    'Chromosome': 'chr22',\n",
       "    'Start': 42982889,\n",
       "    'End': 42986839,\n",
       "    'Strand': '-'}]},\n",
       " {'Gene': 'DBR1',\n",
       "  'Chromosome': 'chr3',\n",
       "  'Start': 140901580,\n",
       "  'End': 140915511,\n",
       "  'Strand': '-',\n",
       "  'nearby_genes': []},\n",
       " {'Gene': 'SYCE1',\n",
       "  'Chromosome': 'chr10',\n",
       "  'Start': 134505424,\n",
       "  'End': 134519736,\n",
       "  'Strand': '-',\n",
       "  'nearby_genes': []},\n",
       " {'Gene': 'ZP2',\n",
       "  'Chromosome': 'chr16',\n",
       "  'Start': 21128399,\n",
       "  'End': 21145450,\n",
       "  'Strand': '-',\n",
       "  'nearby_genes': []}]"
      ]
     },
     "execution_count": 54,
     "metadata": {},
     "output_type": "execute_result"
    }
   ],
   "source": [
    "sorted(genes_list, key = lambda x: len(x['nearby_genes']), reverse=True)"
   ]
  },
  {
   "cell_type": "code",
   "execution_count": 22,
   "metadata": {},
   "outputs": [
    {
     "data": {
      "text/plain": [
       "[]"
      ]
     },
     "execution_count": 22,
     "metadata": {},
     "output_type": "execute_result"
    }
   ],
   "source": [
    "genes_list"
   ]
  },
  {
   "cell_type": "code",
   "execution_count": null,
   "metadata": {},
   "outputs": [],
   "source": []
  }
 ],
 "metadata": {
  "kernelspec": {
   "display_name": "base",
   "language": "python",
   "name": "python3"
  },
  "language_info": {
   "codemirror_mode": {
    "name": "ipython",
    "version": 3
   },
   "file_extension": ".py",
   "mimetype": "text/x-python",
   "name": "python",
   "nbconvert_exporter": "python",
   "pygments_lexer": "ipython3",
   "version": "3.10.8"
  },
  "orig_nbformat": 4
 },
 "nbformat": 4,
 "nbformat_minor": 2
}
