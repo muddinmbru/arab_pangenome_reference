{
 "cells": [
  {
   "cell_type": "code",
   "execution_count": null,
   "metadata": {},
   "outputs": [],
   "source": []
  },
  {
   "cell_type": "code",
   "execution_count": null,
   "metadata": {},
   "outputs": [],
   "source": []
  },
  {
   "cell_type": "code",
   "execution_count": null,
   "metadata": {},
   "outputs": [],
   "source": [
    "def extract_sequences_from_fasta(fasta_file, genes):\n",
    "    sequences = []\n",
    "    \n",
    "    fasta_dict = SeqIO.to_dict(SeqIO.parse(fasta_file, \"fasta\"))\n",
    "    for gene in genes:\n",
    "        chrom,start, end, gene_name = gene\n",
    "        gene_seq = fasta_dict['chr6'].seq[start-1:end]\n",
    "        record = (gene_name, str(gene_seq).upper())\n",
    "        sequences.append(record)\n",
    "\n",
    "    return sequences"
   ]
  },
  {
   "cell_type": "code",
   "execution_count": null,
   "metadata": {},
   "outputs": [],
   "source": [
    "all_gene_sequences = extract_sequences_from_fasta(fasta_file, all_genes_in_region)\n",
    "pc_gene_sequences = extract_sequences_from_fasta(fasta_file, pc_genes_in_region)"
   ]
  },
  {
   "cell_type": "code",
   "execution_count": null,
   "metadata": {},
   "outputs": [],
   "source": [
    "def write_gene_fastas(fasta_dir, attr, gene_sequences):\n",
    "    Path(fasta_dir).mkdir(parents=True, exist_ok=True)\n",
    "    with open(f'{fasta_dir}/{region}_{attr}.fasta', 'w+') as f:\n",
    "        for gene, sequence in gene_sequences:\n",
    "            f.write(f'>{gene}\\n{sequence}\\n')\n",
    "    return f'{fasta_dir}/{region}_{attr}.fasta'"
   ]
  },
  {
   "cell_type": "code",
   "execution_count": null,
   "metadata": {},
   "outputs": [],
   "source": [
    "pc_fasta_file = write_gene_fastas(f'{workdir}/gene_fastas', 'protein_coding', pc_gene_sequences)\n",
    "all_fasta_file = write_gene_fastas(f'{workdir}/gene_fastas', 'all', all_gene_sequences)"
   ]
  },
  {
   "cell_type": "code",
   "execution_count": null,
   "metadata": {},
   "outputs": [],
   "source": [
    "alignments_dir = f'{workdir}/gene_alignments'\n",
    "pc_alignmnet_file = f'{alignments_dir}/aligned_pc_{region}.gaf'\n",
    "all_alignmnet_file = f'{alignments_dir}/aligned_all_{region}.gaf'\n",
    "Path(alignments_dir).mkdir(exist_ok=True, parents=True)"
   ]
  },
  {
   "cell_type": "code",
   "execution_count": null,
   "metadata": {},
   "outputs": [],
   "source": [
    "align_pc_genes = f'GraphAligner -g {viz_output} -f {pc_fasta_file} -t 32  -a {pc_alignmnet_file} -x vg --multimap-score-fraction 0.1'\n",
    "align_all_genes= f'GraphAligner -g {viz_output} -f {all_fasta_file}  -t 32 -a {all_alignmnet_file} -x vg --multimap-score-fraction 0.1'"
   ]
  },
  {
   "cell_type": "code",
   "execution_count": null,
   "metadata": {},
   "outputs": [
    {
     "data": {
      "text/plain": [
       "'GraphAligner -g chr15#73077637_73177637.arp-v2.wd/chr15#73077637_73177637.1.arp-v2.walks.gfa -f chr15#73077637_73177637.arp-v2.wd/gene_fastas/chr15#73077637_73177637_protein_coding.fasta -t 32  -a chr15#73077637_73177637.arp-v2.wd/gene_alignments/aligned_pc_chr15#73077637_73177637.gaf -x vg --multimap-score-fraction 0.1'"
      ]
     },
     "metadata": {},
     "output_type": "display_data"
    }
   ],
   "source": [
    "align_pc_genes"
   ]
  },
  {
   "cell_type": "code",
   "execution_count": null,
   "metadata": {},
   "outputs": [],
   "source": [
    "if gfab.split('.')[0] == 'CPC':\n",
    "    os.system(f'sed -i \"/^L/ s/\\*/0M/g\" {connected_output}')\n",
    "    "
   ]
  },
  {
   "cell_type": "code",
   "execution_count": null,
   "metadata": {},
   "outputs": [
    {
     "data": {
      "text/plain": [
       "0"
      ]
     },
     "metadata": {},
     "output_type": "display_data"
    }
   ],
   "source": [
    "os.system(f\"awk '($1 == \\\"S\\\" && $3 != \\\"*\\\") ' {connected_output} > tmp_file && mv tmp_file {connected_output}\" )"
   ]
  },
  {
   "cell_type": "code",
   "execution_count": null,
   "metadata": {},
   "outputs": [
    {
     "data": {
      "text/plain": [
       "'GraphAligner -g chr15#73077637_73177637.arp-v2.wd/chr15#73077637_73177637.1.arp-v2.walks.gfa -f chr15#73077637_73177637.arp-v2.wd/gene_fastas/chr15#73077637_73177637_all.fasta  -t 32 -a chr15#73077637_73177637.arp-v2.wd/gene_alignments/aligned_all_chr15#73077637_73177637.gaf -x vg --multimap-score-fraction 0.1'"
      ]
     },
     "metadata": {},
     "output_type": "display_data"
    }
   ],
   "source": [
    "align_all_genes"
   ]
  },
  {
   "cell_type": "code",
   "execution_count": null,
   "metadata": {},
   "outputs": [
    {
     "name": "stderr",
     "output_type": "stream",
     "text": [
      "GraphAligner bioconda 1.0.17-\n"
     ]
    },
    {
     "name": "stdout",
     "output_type": "stream",
     "text": [
      "GraphAligner bioconda 1.0.17-\n",
      "Load graph from chr15#73077637_73177637.arp-v2.wd/chr15#73077637_73177637.2.arp-v2.gfa\n",
      "Build alignment graph\n",
      "Build minimizer seeder from the graph\n",
      "Minimizer seeds, length 15, window size 20, density 10\n",
      "Seed cluster size 1\n",
      "Extend up to 5 seed clusters\n",
      "Alignment bandwidth 10\n",
      "Clip alignment ends with identity < 66%\n",
      "X-drop DP score cutoff 14705\n",
      "Backtrace from 10 highest scoring local maxima per cluster\n",
      "write alignments to chr15#73077637_73177637.arp-v2.wd/gene_alignments/aligned_all_chr15#73077637_73177637.gaf\n",
      "Align\n",
      "Alignment finished\n",
      "Input reads: 10 (53006bp)\n",
      "Seeds found: 872\n",
      "Seeds extended: 22\n",
      "Reads with a seed: 5 (45862bp)\n",
      "Reads with an alignment: 5 (3102bp)\n",
      "Alignments: 265 (48821bp) (15 additional alignments discarded)\n",
      "End-to-end alignments: 0 (0bp)\n",
      "GraphAligner bioconda 1.0.17-\n",
      "Load graph from chr15#73077637_73177637.arp-v2.wd/chr15#73077637_73177637.2.arp-v2.gfa\n",
      "Build alignment graph\n",
      "Build minimizer seeder from the graph\n"
     ]
    },
    {
     "name": "stderr",
     "output_type": "stream",
     "text": [
      "GraphAligner bioconda 1.0.17-\n"
     ]
    },
    {
     "name": "stdout",
     "output_type": "stream",
     "text": [
      "Minimizer seeds, length 15, window size 20, density 10\n",
      "Seed cluster size 1\n",
      "Extend up to 5 seed clusters\n",
      "Alignment bandwidth 10\n",
      "Clip alignment ends with identity < 66%\n",
      "X-drop DP score cutoff 14705\n",
      "Backtrace from 10 highest scoring local maxima per cluster\n",
      "write alignments to chr15#73077637_73177637.arp-v2.wd/gene_alignments/aligned_pc_chr15#73077637_73177637.gaf\n",
      "Align\n",
      "Alignment finished\n",
      "Input reads: 2 (34525bp)\n",
      "Seeds found: 674\n",
      "Seeds extended: 10\n",
      "Reads with a seed: 2 (34525bp)\n",
      "Reads with an alignment: 2 (2354bp)\n",
      "Alignments: 206 (37954bp) (12 additional alignments discarded)\n",
      "End-to-end alignments: 0 (0bp)\n"
     ]
    },
    {
     "data": {
      "text/plain": [
       "0"
      ]
     },
     "metadata": {},
     "output_type": "display_data"
    }
   ],
   "source": [
    "# with ProcessPoolExecutor() as executor:\n",
    "#     executor.map(run_command, [align_pc_genes, align_all_genes])\n",
    "os.system(align_all_genes)\n",
    "os.system(align_pc_genes)"
   ]
  },
  {
   "cell_type": "code",
   "execution_count": null,
   "metadata": {},
   "outputs": [],
   "source": [
    "def get_segement_colors_from_alignment(alignment_file, color_files_dir):\n",
    "    df_all = pd.read_csv(alignment_file, sep='\\t', header=None)\n",
    "    df_all['index'] = df_all.groupby(0).cumcount() + 1\n",
    "    df = df_all[[0, 5]]\n",
    "    df = df.groupby(0).agg(lambda x: ''.join(x)).reset_index()\n",
    "    def random_color():\n",
    "        return \"#%06x\" % random.randint(0, 0xFFFFFF)\n",
    "\n",
    "    df['color'] = df.apply(lambda x: random_color(), axis=1)\n",
    "\n",
    "\n",
    "    items=[]\n",
    "    for i, row in df.iterrows():\n",
    "        gene = str(row[0])\n",
    "        nodes = re.split(r'[<>]',row[5])\n",
    "        with open(f'{color_files_dir}/{gene}.csv', 'w') as f:\n",
    "            \n",
    "        \n",
    "            for node in nodes:\n",
    "                if node != '':\n",
    "                    f.write(f'{node}, {row[\"color\"]}\\n')\n",
    "                    items.append((node, row['color']))\n",
    "    return pd.DataFrame(items), df_all"
   ]
  },
  {
   "cell_type": "code",
   "execution_count": null,
   "metadata": {},
   "outputs": [],
   "source": [
    "color_files_dir = f'{workdir}/color_csvs'\n",
    "Path(color_files_dir).mkdir(parents=True, exist_ok=True)"
   ]
  },
  {
   "cell_type": "code",
   "execution_count": null,
   "metadata": {},
   "outputs": [],
   "source": [
    "pc_gene_colors, pc_genes_all = get_segement_colors_from_alignment(pc_alignmnet_file, color_files_dir)\n",
    "pc_gene_colors.to_csv(f'{color_files_dir}/pc_colors.csv', header=None, index=None)\n",
    "all_gene_colors, all_genes_all = get_segement_colors_from_alignment(all_alignmnet_file, color_files_dir)\n",
    "all_gene_colors.to_csv(f'{color_files_dir}/all_colors.csv', header=None, index=None)"
   ]
  },
  {
   "cell_type": "code",
   "execution_count": null,
   "metadata": {},
   "outputs": [],
   "source": [
    "\n"
   ]
  }
 ],
 "metadata": {
  "language_info": {
   "name": "python"
  },
  "orig_nbformat": 4
 },
 "nbformat": 4,
 "nbformat_minor": 2
}
